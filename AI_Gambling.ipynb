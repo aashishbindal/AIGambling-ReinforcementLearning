{
  "nbformat": 4,
  "nbformat_minor": 0,
  "metadata": {
    "colab": {
      "name": "Lecture 24 : Reinforcement(Bidding Game).ipynb",
      "provenance": [],
      "collapsed_sections": []
    },
    "kernelspec": {
      "name": "python3",
      "display_name": "Python 3"
    }
  },
  "cells": [
    {
      "cell_type": "code",
      "metadata": {
        "id": "kf8G_CmX1R8c",
        "colab_type": "code",
        "colab": {}
      },
      "source": [
        "import numpy as np"
      ],
      "execution_count": 1,
      "outputs": []
    },
    {
      "cell_type": "code",
      "metadata": {
        "id": "oSa1NwCp1cNG",
        "colab_type": "code",
        "colab": {}
      },
      "source": [
        "DEALER_WON = -1\n",
        "PLAYER_WON = 1"
      ],
      "execution_count": 2,
      "outputs": []
    },
    {
      "cell_type": "code",
      "metadata": {
        "id": "aB_Nfneb1iOv",
        "colab_type": "code",
        "colab": {}
      },
      "source": [
        "def getBid(amount):\n",
        "    bid = np.random.choice(range(1, amount+1))\n",
        "    return bid"
      ],
      "execution_count": 3,
      "outputs": []
    },
    {
      "cell_type": "code",
      "metadata": {
        "id": "5TSTnbrW5wMr",
        "colab_type": "code",
        "colab": {}
      },
      "source": [
        "def toss():\n",
        "    if np.random.random() < 0.45:\n",
        "        return True\n",
        "    else:\n",
        "        return False"
      ],
      "execution_count": 4,
      "outputs": []
    },
    {
      "cell_type": "code",
      "metadata": {
        "id": "EGlV5EbC6HXZ",
        "colab_type": "code",
        "colab": {}
      },
      "source": [
        "def play(testing = False):\n",
        "    states = []\n",
        "    playerSum = 50\n",
        "    \n",
        "    if testing:\n",
        "        print(\"Player Turn\")\n",
        "    # player game\n",
        "    while True:\n",
        "        if playerSum > 50:\n",
        "            playerBid = getBid(100 - playerSum)\n",
        "        elif playerSum > 0:\n",
        "            playerBid = getBid(playerSum)\n",
        "        \n",
        "        states.append([playerSum, playerBid])\n",
        "        \n",
        "        prob = toss()\n",
        "        if prob:\n",
        "            playerSum += playerBid\n",
        "        else:\n",
        "            playerSum -= playerBid\n",
        "        \n",
        "        if playerSum <= 0:\n",
        "#             print('Lose')\n",
        "            return states, -1\n",
        "        elif playerSum >= 100:\n",
        "#             print('Win')\n",
        "            return states, 1\n",
        "            \n",
        "                           \n",
        "        "
      ],
      "execution_count": 5,
      "outputs": []
    },
    {
      "cell_type": "code",
      "metadata": {
        "id": "uX7YNkW3_K-l",
        "colab_type": "code",
        "colab": {
          "base_uri": "https://localhost:8080/",
          "height": 34
        },
        "outputId": "a2beaf04-60ae-48ef-8497-254cc51e646d"
      },
      "source": [
        "play()"
      ],
      "execution_count": 6,
      "outputs": [
        {
          "output_type": "execute_result",
          "data": {
            "text/plain": [
              "([[50, 23], [27, 27]], -1)"
            ]
          },
          "metadata": {
            "tags": []
          },
          "execution_count": 6
        }
      ]
    },
    {
      "cell_type": "code",
      "metadata": {
        "id": "9IbPAO32ATNE",
        "colab_type": "code",
        "colab": {}
      },
      "source": [
        "def runEpisodes(nEpisodes):\n",
        "    stateActionRewards = np.zeros((99, 50))\n",
        "    stateActionCounts = np.ones((99,50))\n",
        "    results = np.zeros(3)\n",
        "    \n",
        "    for episode in range(nEpisodes):\n",
        "        states, reward = play()\n",
        "        \n",
        "        for state in states:\n",
        "            # add reward\n",
        "            stateActionRewards[state[0]-1, state[1]-1] += reward\n",
        "            # add count\n",
        "            stateActionCounts[state[0]-1, state[1]-1] += 1\n",
        "        \n",
        "        results[reward + 1] += 1\n",
        "    return results, stateActionRewards, stateActionCounts"
      ],
      "execution_count": 7,
      "outputs": []
    },
    {
      "cell_type": "code",
      "metadata": {
        "id": "1Kl2LhR1CybE",
        "colab_type": "code",
        "colab": {}
      },
      "source": [
        "results, stateActionRewards, stateActionCounts = runEpisodes(1000000)"
      ],
      "execution_count": 8,
      "outputs": []
    },
    {
      "cell_type": "code",
      "metadata": {
        "id": "wemCx8eDC0r6",
        "colab_type": "code",
        "colab": {
          "base_uri": "https://localhost:8080/",
          "height": 34
        },
        "outputId": "29cd2172-58b6-42df-ee94-ce17a8d47348"
      },
      "source": [
        "results"
      ],
      "execution_count": 9,
      "outputs": [
        {
          "output_type": "execute_result",
          "data": {
            "text/plain": [
              "array([611213.,      0., 388787.])"
            ]
          },
          "metadata": {
            "tags": []
          },
          "execution_count": 9
        }
      ]
    },
    {
      "cell_type": "code",
      "metadata": {
        "id": "QF_E-CjrEggM",
        "colab_type": "code",
        "colab": {}
      },
      "source": [
        "avg_rewards = stateActionRewards/stateActionCounts"
      ],
      "execution_count": 10,
      "outputs": []
    },
    {
      "cell_type": "code",
      "metadata": {
        "id": "Et7Ns3K_ILr5",
        "colab_type": "code",
        "colab": {}
      },
      "source": [
        "# avg_rewards[0]"
      ],
      "execution_count": 11,
      "outputs": []
    },
    {
      "cell_type": "code",
      "metadata": {
        "id": "WBvZ9TBzFWkn",
        "colab_type": "code",
        "colab": {}
      },
      "source": [
        "Actions = np.zeros((99))\n",
        "for i in range(99):\n",
        "    if i < 50:\n",
        "      temp = i+1\n",
        "    else:\n",
        "      temp = 99-i\n",
        "    Actions[i] = np.argmax(avg_rewards[i, :temp])+1"
      ],
      "execution_count": 12,
      "outputs": []
    },
    {
      "cell_type": "code",
      "metadata": {
        "id": "sQBlEj3iF_7m",
        "colab_type": "code",
        "colab": {}
      },
      "source": [
        "def bestBid(Amount):\n",
        "    return Actions[Amount-1]"
      ],
      "execution_count": 13,
      "outputs": []
    },
    {
      "cell_type": "code",
      "metadata": {
        "id": "H8649h7PGEDt",
        "colab_type": "code",
        "colab": {
          "base_uri": "https://localhost:8080/",
          "height": 34
        },
        "outputId": "fabd445d-10d4-46be-bfca-93316ce540de"
      },
      "source": [
        "bestBid(60)"
      ],
      "execution_count": 14,
      "outputs": [
        {
          "output_type": "execute_result",
          "data": {
            "text/plain": [
              "38.0"
            ]
          },
          "metadata": {
            "tags": []
          },
          "execution_count": 14
        }
      ]
    },
    {
      "cell_type": "code",
      "metadata": {
        "id": "_nJ3pew0GZCE",
        "colab_type": "code",
        "colab": {
          "base_uri": "https://localhost:8080/",
          "height": 151
        },
        "outputId": "db2b7d05-c350-49d2-a1df-a14756087604"
      },
      "source": [
        "Actions"
      ],
      "execution_count": 15,
      "outputs": [
        {
          "output_type": "execute_result",
          "data": {
            "text/plain": [
              "array([ 1.,  2.,  3.,  3.,  5.,  6.,  7.,  8.,  9.,  9., 11., 12.,  1.,\n",
              "       13., 15., 15.,  1., 18., 17., 14., 21., 22., 23., 24., 14., 23.,\n",
              "       27., 13., 28., 30., 26., 29., 31., 31., 35., 35., 37., 38., 38.,\n",
              "       38., 31., 35., 35., 41., 45., 45., 45., 48., 49., 50., 49., 42.,\n",
              "       47., 46., 45., 44., 43., 38., 41., 38., 35., 38.,  9., 34., 34.,\n",
              "       30., 31., 32., 28., 30., 28., 25., 23., 26., 25., 24., 23.,  9.,\n",
              "       18., 20., 18., 18., 16., 16., 15., 14., 13., 12., 11., 10.,  9.,\n",
              "        8.,  7.,  5.,  5.,  4.,  3.,  2.,  1.])"
            ]
          },
          "metadata": {
            "tags": []
          },
          "execution_count": 15
        }
      ]
    },
    {
      "cell_type": "code",
      "metadata": {
        "id": "64ZivITRG6F2",
        "colab_type": "code",
        "colab": {}
      },
      "source": [
        ""
      ],
      "execution_count": null,
      "outputs": []
    }
  ]
}